{
 "cells": [
  {
   "cell_type": "markdown",
   "id": "d340ae54-7d1a-4ae4-9135-04f91dcd12ce",
   "metadata": {},
   "source": [
    "# Towards Secure and Usable 3D Assets: A Novel Framework for Automatic Visible Watermarking\n",
    "This is the notebook for reproducing the results of the \"Towards Secure and Usable 3D Assets: A Novel Framework for Automatic Visible Watermarking\" paper accepted for publication in WACV2025.\n",
    "\n",
    "<p align=\"center\">\n",
    "<center>\n",
    "<img src=\"https://vbdai-notebooks.obs.cn-north-4.myhuaweicloud.com/3dwatermark/framework.png\" alt=\"alt text\" width=\"1000\">\n",
    "</center>\n",
    "</p> \n",
    "\n",
    "## Video Demo"
   ]
  },
  {
   "cell_type": "code",
   "execution_count": 1,
   "id": "9ebc13bf-afbc-4ead-a785-a9e2b9029f3b",
   "metadata": {},
   "outputs": [
    {
     "data": {
      "text/html": [
       "<video width=\"1280\" controls>\n",
       "    <source src=\"https://vbdai-notebooks.obs.cn-north-4.myhuaweicloud.com/3dwatermark/video_demo.mp4\" type=\"video/mp4\">\n",
       "</video>\n"
      ],
      "text/plain": [
       "<IPython.core.display.HTML object>"
      ]
     },
     "metadata": {},
     "output_type": "display_data"
    }
   ],
   "source": [
    "%%HTML\n",
    "<video width=\"1280\" controls>\n",
    "    <source src=\"https://vbdai-notebooks.obs.cn-north-4.myhuaweicloud.com/3dwatermark/video_demo.mp4\" type=\"video/mp4\">\n",
    "</video>"
   ]
  },
  {
   "cell_type": "markdown",
   "id": "bb0f8b59-359b-4eff-8f45-782a548324df",
   "metadata": {},
   "source": [
    "## Download and extract the code"
   ]
  },
  {
   "cell_type": "code",
   "execution_count": null,
   "id": "dd8533dd-518f-42de-8cb1-d78c6cb6bf8d",
   "metadata": {},
   "outputs": [],
   "source": [
    "!wget https://vbdai-notebooks.obs.cn-north-4.myhuaweicloud.com/3dwatermark/code.zip \n",
    "!unzip -qo code.zip"
   ]
  },
  {
   "cell_type": "markdown",
   "id": "ea860fae-8804-4ab1-9b93-0f960e9e28a6",
   "metadata": {},
   "source": [
    "## Setting up environment\n",
    "- To start with, confirm the base environment uses `Python 3.10.12` and `Ubuntu 22.04.2 LTS`. Note that older Linux distribution might not support all packages required, and gpu-supported versions for packages may differ depending on your gpu setup. \n",
    "\n",
    "- Create conda environment with:  "
   ]
  },
  {
   "cell_type": "code",
   "execution_count": null,
   "id": "2578cbab-54d6-4279-8e24-7de024a257a4",
   "metadata": {},
   "outputs": [],
   "source": [
    "!conda create -n \"3dwatermark\" python=3.10.12 ipython\n",
    "!conda activate 3dwatermark"
   ]
  },
  {
   "cell_type": "markdown",
   "id": "885d65fe-9afb-4958-89f9-291f355d9cf4",
   "metadata": {},
   "source": [
    "- Before installing anything else, install the blender python library:  "
   ]
  },
  {
   "cell_type": "code",
   "execution_count": null,
   "id": "2099ccba-de17-4df0-851e-0d0dd3980cce",
   "metadata": {},
   "outputs": [],
   "source": [
    "!pip install bpy==4.0.0"
   ]
  },
  {
   "cell_type": "code",
   "execution_count": null,
   "id": "61950182-0d69-4797-b1c5-8e08c4d2ca14",
   "metadata": {},
   "outputs": [],
   "source": [
    "- Install `pytorch3d==0.7.6`:  \n",
    "!pip install --no-index --no-cache-dir pytorch3d --trusted-host dl.fbaipublicfiles.com -f https://dl.fbaipublicfiles.com/pytorch3d/packaging/wheels/py310_cu121_pyt221/download.html"
   ]
  },
  {
   "cell_type": "markdown",
   "id": "921aad0c-d072-449f-a3b6-35aafbab6e49",
   "metadata": {},
   "source": [
    "- Install other required packages:  "
   ]
  },
  {
   "cell_type": "code",
   "execution_count": null,
   "id": "8359d865-a54c-4363-9949-72f2f0a164cd",
   "metadata": {},
   "outputs": [],
   "source": [
    "!conda env update --file conda_env.yml\n",
    "!conda install --name 3dwatermark --file spec-file.txt"
   ]
  },
  {
   "cell_type": "markdown",
   "id": "f802a38f-4748-4ad8-9466-699d96ce794b",
   "metadata": {},
   "source": [
    "## Watermark 3D Models\n",
    "- GPU is required for efficient implementation and the default device is `cuda:0`. The following command can be used to verify the number of GPUs available:"
   ]
  },
  {
   "cell_type": "code",
   "execution_count": null,
   "id": "643d7753-82ff-408e-ab09-388d2086ad29",
   "metadata": {},
   "outputs": [],
   "source": [
    "!python -c \"import torch; num_of_gpus = torch.cuda.device_count(); print(num_of_gpus)\""
   ]
  },
  {
   "cell_type": "markdown",
   "id": "969a2414-d1f6-4574-ba96-d1cb5a0d13d5",
   "metadata": {},
   "source": [
    "- To run the watermarking pipeline with the default example models and parameters, simply run the following:"
   ]
  },
  {
   "cell_type": "code",
   "execution_count": null,
   "id": "16d90447-b122-4618-9438-2e8659601730",
   "metadata": {},
   "outputs": [],
   "source": [
    "!python main.py"
   ]
  },
  {
   "cell_type": "markdown",
   "id": "f206c7bf-790d-45be-abae-4ee711eea176",
   "metadata": {},
   "source": [
    "- Run with watermark embossing:  "
   ]
  },
  {
   "cell_type": "code",
   "execution_count": null,
   "id": "80e6f11e-18cd-41d5-89b3-1b13ca83ad58",
   "metadata": {},
   "outputs": [],
   "source": [
    "!python main_curvefollow.py"
   ]
  }
 ],
 "metadata": {
  "AIGalleryInfo": {
   "item_id": "15adbaaa-2583-4ec3-804a-61c29f001e03"
  },
  "flavorInfo": {
   "architecture": "X86_64",
   "category": "GPU"
  },
  "imageInfo": {
   "id": "e1a07296-22a8-4f05-8bc8-e936c8e54099",
   "name": "pytorch1.4-cuda10.1-cudnn7-ubuntu18.04"
  },
  "kernelspec": {
   "display_name": "python-3.7.10",
   "language": "python",
   "name": "python-3.7.10"
  },
  "language_info": {
   "codemirror_mode": {
    "name": "ipython",
    "version": 3
   },
   "file_extension": ".py",
   "mimetype": "text/x-python",
   "name": "python",
   "nbconvert_exporter": "python",
   "pygments_lexer": "ipython3",
   "version": "3.7.10"
  }
 },
 "nbformat": 4,
 "nbformat_minor": 5
}
